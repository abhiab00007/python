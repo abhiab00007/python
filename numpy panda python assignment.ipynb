{
 "cells": [
  {
   "cell_type": "markdown",
   "id": "7c914752-db9f-462c-9cdc-eb9a7574279e",
   "metadata": {},
   "source": [
    "## '''Exercise 1: (Score : 1) Create a numpy array containing the numbers from 1 to 10, and then reshape it to a 2x5 matrix. Exercise 2: (Score : 1) Create a numpy array containing the numbers from 1 to 20, and then extract the elements between the 5th and 15th index. Exercise 3: (Score : 2) Create a Pandas series with the following data: {'apples': 3, 'bananas': 2, 'oranges': 1}. Then, add a new item to the series with the key 'pears' and the value 4. Exercise 4: (Score : 2) Create a dataframe with the following columns: name, age, and gender. The dataframe should have 10 rows of data. Exercise 5: (Score : 1) Add a new column to the data frame created in question 1, called occupation. The values for this column should be Programmer, Manager, and Analyst, corresponding to the rows in the dataframe. Exercise 6: (Score : 1) Select the rows of the dataframe where the age is greater than or equal to 30. Exercise 7: (Score : 2) Convert this dataframe to a csv file and read that csv file, finally display the contents.'''"
   ]
  },
  {
   "cell_type": "markdown",
   "id": "7a7c4d29-a273-4f6c-90bb-3e8c17e2d628",
   "metadata": {},
   "source": [
    "### Exercise 1"
   ]
  },
  {
   "cell_type": "code",
   "execution_count": 3,
   "id": "3690fdde-1438-40f7-8344-e4a131e42981",
   "metadata": {},
   "outputs": [
    {
     "name": "stdout",
     "output_type": "stream",
     "text": [
      "[ 1  2  3  4  5  6  7  8  9 10]\n"
     ]
    }
   ],
   "source": [
    "import numpy as np\n",
    "s=np.array(range(1,11))\n",
    "print(s)"
   ]
  },
  {
   "cell_type": "code",
   "execution_count": 5,
   "id": "14e10c37-b3c9-40e8-bef5-3de1efc24109",
   "metadata": {},
   "outputs": [
    {
     "data": {
      "text/plain": [
       "array([[ 1,  2,  3,  4,  5],\n",
       "       [ 6,  7,  8,  9, 10]])"
      ]
     },
     "execution_count": 5,
     "metadata": {},
     "output_type": "execute_result"
    }
   ],
   "source": [
    "h=s.reshape(2,5)\n",
    "h"
   ]
  },
  {
   "cell_type": "markdown",
   "id": "ae921310-9afe-4fea-ae84-7fdb3e7cddca",
   "metadata": {},
   "source": [
    "### Exercise 2"
   ]
  },
  {
   "cell_type": "code",
   "execution_count": 8,
   "id": "294b359c-cebc-443b-876a-a4866d47de40",
   "metadata": {},
   "outputs": [
    {
     "name": "stdout",
     "output_type": "stream",
     "text": [
      "The array :[ 1  2  3  4  5  6  7  8  9 10 11 12 13 14 15 16 17 18 19 20],\n",
      "The array after extraction of index 5 to 15 index including them :[ 6  7  8  9 10 11 12 13 14 15 16]\n"
     ]
    }
   ],
   "source": [
    "d=np.array(range(1,21))\n",
    "e=d[5:16]\n",
    "print(f\"The array :{d},\\nThe array after extraction of index 5 to 15 index including them :{e}\")"
   ]
  },
  {
   "cell_type": "markdown",
   "id": "f0c413f6-bc87-4838-814c-3b4fbcd39e6f",
   "metadata": {},
   "source": [
    "### Exercise 3"
   ]
  },
  {
   "cell_type": "code",
   "execution_count": 12,
   "id": "2bb5e0a3-cea1-4064-ba3a-9441f73d97fd",
   "metadata": {},
   "outputs": [
    {
     "name": "stdout",
     "output_type": "stream",
     "text": [
      "Series :\n",
      "apples     3\n",
      "bananas    2\n",
      "oranges    1\n",
      "dtype: int64\n"
     ]
    }
   ],
   "source": [
    "import pandas as pd\n",
    "c={'apples': 3, 'bananas': 2, 'oranges': 1}\n",
    "i=pd.Series(c)\n",
    "print(f\"Series :\\n{i}\")"
   ]
  },
  {
   "cell_type": "code",
   "execution_count": 14,
   "id": "6ab4b9ed-79ea-4c96-a8d3-7256286b2696",
   "metadata": {},
   "outputs": [
    {
     "name": "stdout",
     "output_type": "stream",
     "text": [
      "New updated :\n",
      "apples     3\n",
      "bananas    2\n",
      "oranges    1\n",
      "pears      4\n",
      "dtype: int64\n"
     ]
    }
   ],
   "source": [
    "i[\"pears\"]=4\n",
    "print(f\"New updated :\\n{i}\")"
   ]
  },
  {
   "cell_type": "markdown",
   "id": "4828ff96-0609-4149-9e07-b08444a7c31c",
   "metadata": {},
   "source": [
    "### Exercise 4"
   ]
  },
  {
   "cell_type": "code",
   "execution_count": 17,
   "id": "c23538a0-4ec3-4897-a141-297a8c371eb6",
   "metadata": {},
   "outputs": [
    {
     "name": "stdout",
     "output_type": "stream",
     "text": [
      "      Name  Age Gender\n",
      "0      Bob   32      M\n",
      "1      Bob   30      F\n",
      "2    Alice   33      M\n",
      "3    David   40      M\n",
      "4      Eve   27      F\n",
      "5      Eve   45      F\n",
      "6      Eve   36      M\n",
      "7  Charlie   19      F\n",
      "8      Bob   33      F\n",
      "9    David   30      F\n"
     ]
    }
   ],
   "source": [
    "num_rows=10\n",
    "data = {\n",
    "     \"Name\":np.random.choice(['Alice', 'Bob', 'Charlie', 'David', 'Eve'], num_rows),\n",
    "      \"Age\":np.random.randint(18,50,num_rows),\n",
    "      \"Gender\":np.random.choice([\"M\",\"F\"],num_rows)}\n",
    "z=pd.DataFrame(data)\n",
    "print(z)"
   ]
  },
  {
   "cell_type": "markdown",
   "id": "3c409800-d760-4dc1-b86e-1b34058b9143",
   "metadata": {},
   "source": [
    "### Exercise 5"
   ]
  },
  {
   "cell_type": "code",
   "execution_count": 20,
   "id": "4054ff03-319a-4d71-a413-0500c2bbacd6",
   "metadata": {},
   "outputs": [
    {
     "name": "stdout",
     "output_type": "stream",
     "text": [
      "      Name  Age Gender  occupation\n",
      "0      Bob   32      M     Manager\n",
      "1      Bob   30      F     Manager\n",
      "2    Alice   33      M     Manager\n",
      "3    David   40      M  Programmer\n",
      "4      Eve   27      F  Programmer\n",
      "5      Eve   45      F     Analyst\n",
      "6      Eve   36      M     Analyst\n",
      "7  Charlie   19      F     Analyst\n",
      "8      Bob   33      F     Analyst\n",
      "9    David   30      F  Programmer\n"
     ]
    }
   ],
   "source": [
    "z[\"occupation\"]=np.random.choice([\"Programmer\",\"Manager\" ,\"Analyst\"],num_rows)\n",
    "print(z)"
   ]
  },
  {
   "cell_type": "markdown",
   "id": "800eafd6-39fc-43cf-8df5-2d6f10ba7136",
   "metadata": {},
   "source": [
    "### Exercise 6"
   ]
  },
  {
   "cell_type": "code",
   "execution_count": 23,
   "id": "0bd628bc-53af-4776-ac75-57e50c0701b4",
   "metadata": {},
   "outputs": [
    {
     "name": "stdout",
     "output_type": "stream",
     "text": [
      "    Name  Age Gender  occupation\n",
      "0    Bob   32      M     Manager\n",
      "1    Bob   30      F     Manager\n",
      "2  Alice   33      M     Manager\n",
      "3  David   40      M  Programmer\n",
      "5    Eve   45      F     Analyst\n",
      "6    Eve   36      M     Analyst\n",
      "8    Bob   33      F     Analyst\n",
      "9  David   30      F  Programmer\n"
     ]
    }
   ],
   "source": [
    "print(z[z[\"Age\"]>=30])"
   ]
  },
  {
   "cell_type": "markdown",
   "id": "3d384a7f-0172-4dbd-a999-a6657ede77a9",
   "metadata": {},
   "source": [
    "### Exercise 7"
   ]
  },
  {
   "cell_type": "code",
   "execution_count": 26,
   "id": "cef6378c-9965-461b-8a36-6c96c2d7b561",
   "metadata": {},
   "outputs": [
    {
     "name": "stdout",
     "output_type": "stream",
     "text": [
      "display the conten :\n",
      "      Name  Age Gender  occupation\n",
      "0      Bob   32      M     Manager\n",
      "1      Bob   30      F     Manager\n",
      "2    Alice   33      M     Manager\n",
      "3    David   40      M  Programmer\n",
      "4      Eve   27      F  Programmer\n",
      "5      Eve   45      F     Analyst\n",
      "6      Eve   36      M     Analyst\n",
      "7  Charlie   19      F     Analyst\n",
      "8      Bob   33      F     Analyst\n",
      "9    David   30      F  Programmer\n"
     ]
    }
   ],
   "source": [
    "z.to_csv('data.csv',index=False)\n",
    "y=pd.read_csv('data.csv')\n",
    "print(f\"display the conten :\\n{y}\")"
   ]
  },
  {
   "cell_type": "code",
   "execution_count": null,
   "id": "3a4afa49-725b-41e2-b7d2-eed6c0360e45",
   "metadata": {},
   "outputs": [],
   "source": []
  }
 ],
 "metadata": {
  "kernelspec": {
   "display_name": "Python 3 (ipykernel)",
   "language": "python",
   "name": "python3"
  },
  "language_info": {
   "codemirror_mode": {
    "name": "ipython",
    "version": 3
   },
   "file_extension": ".py",
   "mimetype": "text/x-python",
   "name": "python",
   "nbconvert_exporter": "python",
   "pygments_lexer": "ipython3",
   "version": "3.12.4"
  }
 },
 "nbformat": 4,
 "nbformat_minor": 5
}
